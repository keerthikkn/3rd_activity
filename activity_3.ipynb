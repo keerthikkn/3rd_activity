{
 "cells": [
  {
   "cell_type": "code",
   "execution_count": 1,
   "metadata": {},
   "outputs": [
    {
     "name": "stdout",
     "output_type": "stream",
     "text": [
      "Hello Worlds\n",
      "virginica\n"
     ]
    }
   ],
   "source": [
    "import pickle\n",
    "from sklearn import datasets\n",
    "iris=datasets.load_iris()\n",
    "x=iris.data\n",
    "y=iris.target\n",
    "#labels for iris dataset\n",
    "labels ={\n",
    " 0: \"setosa\",\n",
    " 1: \"versicolor\",\n",
    " 2: \"virginica\"\n",
    "}\n",
    "#split the data set\n",
    "from sklearn.model_selection import train_test_split\n",
    "x_train,x_test,y_train,y_test=train_test_split(x,y,test_size=.50)\n",
    "#Using decision tree algorithm\n",
    "from sklearn import tree\n",
    "classifier=tree.DecisionTreeClassifier()\n",
    "classifier.fit(x_train,y_train)\n",
    "predictions=classifier.predict(x_test)\n",
    "#export the model\n",
    "pickle.dump(classifier, open('model.pkl','wb'))\n",
    "#load the model and test with a custom input\n",
    "model = pickle.load( open('model.pkl','rb'))\n",
    "x = [[6.7, 3.3, 5.7, 2.1]]\n",
    "predict = model.predict(x)\n",
    "print(\"Hello Worlds\")\n",
    "print(labels[predict[0]])"
   ]
  }
 ],
 "metadata": {
  "kernelspec": {
   "display_name": "Python 3.9.7 ('base')",
   "language": "python",
   "name": "python3"
  },
  "language_info": {
   "codemirror_mode": {
    "name": "ipython",
    "version": 3
   },
   "file_extension": ".py",
   "mimetype": "text/x-python",
   "name": "python",
   "nbconvert_exporter": "python",
   "pygments_lexer": "ipython3",
   "version": "3.9.7"
  },
  "orig_nbformat": 4,
  "vscode": {
   "interpreter": {
    "hash": "7f4671ff852fefb04c582e82b091c1253fbf48d755629901686bb738b68a4202"
   }
  }
 },
 "nbformat": 4,
 "nbformat_minor": 2
}
